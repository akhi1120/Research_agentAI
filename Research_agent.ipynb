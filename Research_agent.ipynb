{
 "cells": [
  {
   "cell_type": "code",
   "execution_count": null,
   "id": "454daf67-4ee0-4307-afe7-121422512797",
   "metadata": {},
   "outputs": [],
   "source": [
    "from phi.agent import Agent\n",
    "from phi.model.openai import OpenAIChat\n",
    "from phi.tools.duckduckgo import DuckDuckGo\n",
    "from phi.tools.exa import ExaTools\n",
    "import os\n",
    "\n",
    "# Set OpenAI API Key\n",
    "os.environ[\"OPENAI_API_KEY\"] =\"your key\"\n",
    "os.environ[\"PHI_API_KEY\"] = \"your key\"\n",
    "os.environ[\"EXA_API_KEY\"] = \"your key\"\n",
    "\n",
    "research_agent = Agent(\n",
    "    name=\"Research Agent\",\n",
    "    model=OpenAIChat(id=\"gpt-4o\"),\n",
    "    tools=[DuckDuckGo(), ExaTools()],\n",
    "    description=\"You are a senior NYT researcher writing an article on a topic.\",\n",
    "    instructions=[\n",
    "        \"For a given topic, search for the top 5 links.\",\n",
    "        \"Then read each URL and extract the article text, if a URL isn't available, ignore it.\",\n",
    "        \"Analyse and prepare an NYT worthy article based on the information.\",\n",
    "    ],\n",
    "    markdown=True,\n",
    "    show_tool_calls=True,\n",
    "    add_datetime_to_instructions=True,\n",
    ")\n",
    "\n",
    "\n",
    "# Example Calls\n",
    "research_agent.print_response(\"Summarize the latest advancements in AI and deep learning.\")  # AI research\n",
    "# research_agent.print_response(\"Analyze recent advancements in quantum computing.\")  # Research on Quantum Computing\n"
   ]
  }
 ],
 "metadata": {
  "kernelspec": {
   "display_name": "Python 3 (ipykernel)",
   "language": "python",
   "name": "python3"
  },
  "language_info": {
   "codemirror_mode": {
    "name": "ipython",
    "version": 3
   },
   "file_extension": ".py",
   "mimetype": "text/x-python",
   "name": "python",
   "nbconvert_exporter": "python",
   "pygments_lexer": "ipython3",
   "version": "3.12.7"
  }
 },
 "nbformat": 4,
 "nbformat_minor": 5
}
